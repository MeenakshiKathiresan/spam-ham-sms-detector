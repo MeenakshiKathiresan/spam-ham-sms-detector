{
 "cells": [
  {
   "cell_type": "markdown",
   "id": "590f4900-ce25-4d02-8a83-a5f526b98530",
   "metadata": {},
   "source": [
    "## SMS classification"
   ]
  },
  {
   "cell_type": "code",
   "execution_count": 1,
   "id": "f8dded26-f49b-4d18-9bc4-2e570d5c49f7",
   "metadata": {},
   "outputs": [],
   "source": [
    "#%pip install -r ./requirements.txt"
   ]
  },
  {
   "cell_type": "code",
   "execution_count": 2,
   "id": "e1c5e0bd-e781-4301-87de-d043d5802f2c",
   "metadata": {},
   "outputs": [
    {
     "data": {
      "text/plain": [
       "(500, 2)"
      ]
     },
     "execution_count": 2,
     "metadata": {},
     "output_type": "execute_result"
    }
   ],
   "source": [
    "import pandas as pd\n",
    "df = pd.read_csv(\"spam.csv\")\n",
    "df = df[:500]\n",
    "df.shape"
   ]
  },
  {
   "cell_type": "code",
   "execution_count": 3,
   "id": "577a240a-8a4b-4ca5-9e57-de1e885f76ca",
   "metadata": {},
   "outputs": [
    {
     "data": {
      "image/png": "[encoded data removed]",
      "text/plain": [
       "<Figure size 432x288 with 1 Axes>"
      ]
     },
     "metadata": {
      "needs_background": "light"
     },
     "output_type": "display_data"
    }
   ],
   "source": [
    "import matplotlib.pyplot as plt\n",
    "df['Class'].value_counts().plot.bar()\n",
    "plt.show()"
   ]
  },
  {
   "cell_type": "markdown",
   "id": "c49ac545-6c4f-4e4c-8809-8b6868b79d7c",
   "metadata": {},
   "source": [
    "## Clean Sentences"
   ]
  },
  {
   "cell_type": "code",
   "execution_count": 4,
   "id": "51729d21-7b97-4fc9-8919-ee228cc54fb3",
   "metadata": {},
   "outputs": [],
   "source": [
    "# Prepare cleaning functions\n",
    "import re, string\n",
    "import nltk\n",
    "from nltk.stem import SnowballStemmer\n",
    "\n",
    "stop_words = [\"a\", \"an\", \"the\", \"this\", \"that\", \"is\", \"it\", \"to\", \"and\"]\n",
    "\n",
    "stemmer = SnowballStemmer('english')\n",
    "\n",
    "def preProcessText(text):\n",
    "    # lowercase and strip leading/trailing white space\n",
    "    text = text.lower().strip()\n",
    "    \n",
    "    # remove HTML tags\n",
    "    text = re.compile('<.*?>').sub('', text)\n",
    "    \n",
    "    # remove punctuation\n",
    "    text = re.compile('[%s]' % re.escape(string.punctuation)).sub(' ', text)\n",
    "    \n",
    "    # remove extra white space\n",
    "    text = re.sub('\\s+', ' ', text)\n",
    "    \n",
    "    return text\n",
    "\n",
    "def lexiconProcess(text, stop_words, stemmer):\n",
    "    filtered_sentence = []\n",
    "    words = text.split(\" \")\n",
    "    for w in words:\n",
    "        if w not in stop_words:\n",
    "            filtered_sentence.append(stemmer.stem(w))\n",
    "    text = \" \".join(filtered_sentence)\n",
    "    \n",
    "    return text\n",
    "\n",
    "def cleanSentence(text, stop_words, stemmer):\n",
    "    return lexiconProcess(preProcessText(text), stop_words, stemmer)\n",
    "\n",
    "def cleanAllSentences(df):\n",
    "    return [cleanSentence(item, stop_words, stemmer) for item in df.values]"
   ]
  },
  {
   "cell_type": "code",
   "execution_count": 5,
   "id": "9ac48f13-00ff-4bdc-b4bc-ce9d33ee709c",
   "metadata": {},
   "outputs": [],
   "source": [
    "df['Message'] = cleanAllSentences(df['Message'])"
   ]
  },
  {
   "cell_type": "code",
   "execution_count": 6,
   "id": "83f0a863-5032-4211-972b-cfe296ba8bcb",
   "metadata": {},
   "outputs": [],
   "source": [
    "from sklearn.feature_extraction.text import CountVectorizer\n",
    "# Or you can use a tf-idf vectorizer \n",
    "# tfidf = TfidfVectorizer()\n",
    "\n",
    "textvectorizer = CountVectorizer(binary=True)\n",
    "df['Message'] = textvectorizer.fit_transform(df['Message'])"
   ]
  },
  {
   "cell_type": "code",
   "execution_count": 7,
   "id": "5ccb5ecb-ebcb-4137-bb08-9d2e73a40bd6",
   "metadata": {},
   "outputs": [],
   "source": [
    "from sklearn.model_selection import train_test_split\n",
    "train_data, test_data = train_test_split(df, test_size=0.2, shuffle=True, random_state=42)"
   ]
  },
  {
   "cell_type": "code",
   "execution_count": 8,
   "id": "59543f4c-c658-4230-a667-77aa56f4e360",
   "metadata": {},
   "outputs": [],
   "source": [
    "X_train = train_data['Message']\n",
    "y_train = train_data['Class']\n",
    "\n",
    "X_test = test_data['Message']\n",
    "y_test = test_data['Class']"
   ]
  },
  {
   "cell_type": "code",
   "execution_count": 9,
   "id": "afed2085-eea4-4af0-ae54-5a0507bc176e",
   "metadata": {},
   "outputs": [],
   "source": [
    "from sklearn.tree import DecisionTreeClassifier"
   ]
  },
  {
   "cell_type": "code",
   "execution_count": 10,
   "id": "c568988b-160e-4bd6-bf8e-adb03672201b",
   "metadata": {},
   "outputs": [],
   "source": [
    "dt = DecisionTreeClassifier()"
   ]
  },
  {
   "cell_type": "code",
   "execution_count": null,
   "id": "b2f55ba8-09a6-4362-b966-f0f93c74d0a7",
   "metadata": {},
   "outputs": [],
   "source": [
    "dt.fit(X_test, y_test)"
   ]
  },
  {
   "cell_type": "code",
   "execution_count": null,
   "id": "f0bef3b0-86b0-4b5e-82b0-29bdddb3cc88",
   "metadata": {},
   "outputs": [],
   "source": []
  },
  {
   "cell_type": "code",
   "execution_count": null,
   "id": "2f14a6ed-f2cc-4783-b4d8-1534d74d9d2a",
   "metadata": {},
   "outputs": [],
   "source": []
  }
 ],
 "metadata": {
  "kernelspec": {
   "display_name": "test_env:Python",
   "language": "python",
   "name": "conda-env-test_env-py"
  },
  "language_info": {
   "codemirror_mode": {
    "name": "ipython",
    "version": 3
   },
   "file_extension": ".py",
   "mimetype": "text/x-python",
   "name": "python",
   "nbconvert_exporter": "python",
   "pygments_lexer": "ipython3",
   "version": "3.9.10"
  }
 },
 "nbformat": 4,
 "nbformat_minor": 5
}
