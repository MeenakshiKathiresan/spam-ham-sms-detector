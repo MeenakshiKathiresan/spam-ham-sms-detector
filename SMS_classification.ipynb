{
 "cells": [
  {
   "cell_type": "markdown",
   "id": "590f4900-ce25-4d02-8a83-a5f526b98530",
   "metadata": {},
   "source": [
    "## SMS classification"
   ]
  },
  {
   "cell_type": "code",
   "execution_count": 1,
   "id": "f8dded26-f49b-4d18-9bc4-2e570d5c49f7",
   "metadata": {},
   "outputs": [],
   "source": [
    "#%pip install -r ./requirements.txt"
   ]
  },
  {
   "cell_type": "code",
   "execution_count": 2,
   "id": "e1c5e0bd-e781-4301-87de-d043d5802f2c",
   "metadata": {},
   "outputs": [
    {
     "data": {
      "text/plain": [
       "(5572, 2)"
      ]
     },
     "execution_count": 2,
     "metadata": {},
     "output_type": "execute_result"
    }
   ],
   "source": [
    "import pandas as pd\n",
    "df = pd.read_csv(\"spam.csv\")\n",
    "df.shape"
   ]
  },
  {
   "cell_type": "code",
   "execution_count": 3,
   "id": "577a240a-8a4b-4ca5-9e57-de1e885f76ca",
   "metadata": {},
   "outputs": [
    {
     "data": {
      "image/png": "[encoded data removed]",
      "text/plain": [
       "<Figure size 432x288 with 1 Axes>"
      ]
     },
     "metadata": {
      "needs_background": "light"
     },
     "output_type": "display_data"
    }
   ],
   "source": [
    "import matplotlib.pyplot as plt\n",
    "df['Class'].value_counts().plot.bar()\n",
    "plt.show()"
   ]
  },
  {
   "cell_type": "markdown",
   "id": "c49ac545-6c4f-4e4c-8809-8b6868b79d7c",
   "metadata": {},
   "source": [
    "## Clean Sentences"
   ]
  },
  {
   "cell_type": "code",
   "execution_count": 4,
   "id": "51729d21-7b97-4fc9-8919-ee228cc54fb3",
   "metadata": {},
   "outputs": [],
   "source": [
    "# Prepare cleaning functions\n",
    "import re, string\n",
    "import nltk\n",
    "from nltk.stem import SnowballStemmer\n",
    "\n",
    "stop_words = [\"a\", \"an\", \"the\", \"this\", \"that\", \"is\", \"it\", \"to\", \"and\"]\n",
    "\n",
    "stemmer = SnowballStemmer('english')\n",
    "\n",
    "def preProcessText(text):\n",
    "    # lowercase and strip leading/trailing white space\n",
    "    text = text.lower().strip()\n",
    "    \n",
    "    # remove HTML tags\n",
    "    text = re.compile('<.*?>').sub('', text)\n",
    "    \n",
    "    # remove punctuation\n",
    "    text = re.compile('[%s]' % re.escape(string.punctuation)).sub(' ', text)\n",
    "    \n",
    "    # remove extra white space\n",
    "    text = re.sub('\\s+', ' ', text)\n",
    "    \n",
    "    return text\n",
    "\n",
    "def lexiconProcess(text, stop_words, stemmer):\n",
    "    filtered_sentence = []\n",
    "    words = text.split(\" \")\n",
    "    for w in words:\n",
    "        if w not in stop_words:\n",
    "            filtered_sentence.append(stemmer.stem(w))\n",
    "    text = \" \".join(filtered_sentence)\n",
    "    \n",
    "    return text\n",
    "\n",
    "def cleanSentence(text, stop_words, stemmer):\n",
    "    return lexiconProcess(preProcessText(text), stop_words, stemmer)\n",
    "\n",
    "def cleanAllSentences(df):\n",
    "    return [cleanSentence(item, stop_words, stemmer) for item in df.values]"
   ]
  },
  {
   "cell_type": "code",
   "execution_count": 5,
   "id": "9ac48f13-00ff-4bdc-b4bc-ce9d33ee709c",
   "metadata": {},
   "outputs": [],
   "source": [
    "df['Message'] = cleanAllSentences(df['Message'])"
   ]
  },
  {
   "cell_type": "markdown",
   "id": "de580467-3fa3-4a13-8e30-216c4f65becc",
   "metadata": {},
   "source": [
    "## Model Training"
   ]
  },
  {
   "cell_type": "code",
   "execution_count": 6,
   "id": "2ce1bb3f-e106-4d63-9f19-710608dc5880",
   "metadata": {},
   "outputs": [],
   "source": [
    "# Let's create a pipline using a random forest classifier \n",
    "from sklearn.ensemble import RandomForestClassifier\n",
    "from sklearn.pipeline import Pipeline\n",
    "from sklearn.metrics import classification_report\n",
    "from sklearn.feature_extraction.text import CountVectorizer\n",
    "\n",
    "pipeline = Pipeline([\n",
    "    ('text_vect', CountVectorizer(binary=True)),\n",
    "    ('dt', RandomForestClassifier())                           \n",
    "])"
   ]
  },
  {
   "cell_type": "code",
   "execution_count": 7,
   "id": "4bb6e7df-e7b6-434a-a40b-811804e1c94a",
   "metadata": {},
   "outputs": [],
   "source": [
    "# And use the train_test_split to prepare the train test sets\n",
    "# The df dataframe has been cleaned. \n",
    "\n",
    "from sklearn.model_selection import train_test_split\n",
    "train_data, test_data = train_test_split(df, test_size=0.1, shuffle=True, random_state=42)\n",
    "\n",
    "X_train = train_data['Message']\n",
    "y_train = train_data['Class']\n",
    "X_test = test_data['Message']\n",
    "y_test = test_data['Class']\n"
   ]
  },
  {
   "cell_type": "code",
   "execution_count": 8,
   "id": "ff2b524a-fcdc-429a-813c-c66331e04275",
   "metadata": {},
   "outputs": [
    {
     "data": {
      "text/plain": [
       "Pipeline(steps=[('text_vect', CountVectorizer(binary=True)),\n",
       "                ('dt', RandomForestClassifier())])"
      ]
     },
     "execution_count": 8,
     "metadata": {},
     "output_type": "execute_result"
    }
   ],
   "source": [
    "# Fit the pipeline \n",
    "pipeline.fit(X_train, y_train)"
   ]
  },
  {
   "cell_type": "code",
   "execution_count": 9,
   "id": "97ef22d6-04ac-4ead-98d0-0d745987d4fb",
   "metadata": {},
   "outputs": [
    {
     "name": "stdout",
     "output_type": "stream",
     "text": [
      "              precision    recall  f1-score   support\n",
      "\n",
      "         ham       0.98      1.00      0.99       491\n",
      "        spam       1.00      0.87      0.93        67\n",
      "\n",
      "    accuracy                           0.98       558\n",
      "   macro avg       0.99      0.93      0.96       558\n",
      "weighted avg       0.98      0.98      0.98       558\n",
      "\n"
     ]
    }
   ],
   "source": [
    "# Evaluate the pipeline on the test set\n",
    "y_predict = pipeline.predict(X_test)\n",
    "print(classification_report(y_test, y_predict))"
   ]
  },
  {
   "cell_type": "markdown",
   "id": "2dc46592-ab7e-4a25-a563-d978db4ea33b",
   "metadata": {},
   "source": [
    "## Test "
   ]
  },
  {
   "cell_type": "code",
   "execution_count": 10,
   "id": "93219945-114e-4a14-8b53-6cf4b61ea8c5",
   "metadata": {},
   "outputs": [
    {
     "name": "stdout",
     "output_type": "stream",
     "text": [
      "Prediction: ham\n"
     ]
    }
   ],
   "source": [
    "test = ['The movie was not worthy of my time, and I was very disappointed. The story was so dull and the characters were lame. ']\n",
    "\n",
    "print('Prediction:', pipeline.predict(test)[0])"
   ]
  },
  {
   "cell_type": "code",
   "execution_count": 11,
   "id": "da8e8ab6-2cad-4864-aa60-da79240f73e2",
   "metadata": {},
   "outputs": [
    {
     "name": "stdout",
     "output_type": "stream",
     "text": [
      "Prediction: spam\n"
     ]
    }
   ],
   "source": [
    "test = ['Had your contract mobile 11 Mnths? Latest Motorola, Nokia etc. all FREE! Double Mins & Text on Orange tariffs. TEXT YES for callback, no to remove from records.']\n",
    "print('Prediction:', pipeline.predict(test)[0])"
   ]
  },
  {
   "cell_type": "code",
   "execution_count": 12,
   "id": "1f095cc8-a325-4a1b-b54b-190d1b7938c3",
   "metadata": {},
   "outputs": [
    {
     "name": "stdout",
     "output_type": "stream",
     "text": [
      "Prediction: spam\n"
     ]
    }
   ],
   "source": [
    "test = ['Congratulations! $500 claim now']\n",
    "print('Prediction:', pipeline.predict(test)[0])"
   ]
  }
 ],
 "metadata": {
  "kernelspec": {
   "display_name": "test_env:Python",
   "language": "python",
   "name": "conda-env-test_env-py"
  },
  "language_info": {
   "codemirror_mode": {
    "name": "ipython",
    "version": 3
   },
   "file_extension": ".py",
   "mimetype": "text/x-python",
   "name": "python",
   "nbconvert_exporter": "python",
   "pygments_lexer": "ipython3",
   "version": "3.9.10"
  }
 },
 "nbformat": 4,
 "nbformat_minor": 5
}
